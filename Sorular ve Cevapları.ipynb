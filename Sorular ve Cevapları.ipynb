{
 "cells": [
  {
   "cell_type": "markdown",
   "id": "72cc552b",
   "metadata": {},
   "source": [
    "## Girilen sayının tek çift olduğunu belirleyip ekrana yazdırın 5dk"
   ]
  },
  {
   "cell_type": "code",
   "execution_count": 2,
   "id": "03f32aa5",
   "metadata": {},
   "outputs": [
    {
     "name": "stdout",
     "output_type": "stream",
     "text": [
      "ENTER A NUMBER: 7\n",
      "the number is odd\n"
     ]
    }
   ],
   "source": [
    "num= int(input(\"ENTER A NUMBER: \"))\n",
    "\n",
    "if num%2==0:\n",
    "    print(\"the number is even\")\n",
    "else:\n",
    "    print(\"the number is odd\")"
   ]
  },
  {
   "cell_type": "markdown",
   "id": "f38fe6ed",
   "metadata": {},
   "source": [
    "## Girilen yazıyı girilen sayı kadar alt alta yazdıran program 5dk "
   ]
  },
  {
   "cell_type": "code",
   "execution_count": 52,
   "id": "fd4ae23a",
   "metadata": {},
   "outputs": [
    {
     "name": "stdout",
     "output_type": "stream",
     "text": [
      "Enter a textBiyomedikal\n",
      "Biyomedikal\n",
      "Biyomedikal\n",
      "Biyomedikal\n",
      "Biyomedikal\n",
      "Biyomedikal\n",
      "Biyomedikal\n",
      "Biyomedikal\n",
      "Biyomedikal\n",
      "Biyomedikal\n",
      "Biyomedikal\n",
      "Biyomedikal\n"
     ]
    }
   ],
   "source": [
    "text= input(\"Enter a text\")\n",
    "for num in range(len(text)):\n",
    "    print(text)"
   ]
  },
  {
   "cell_type": "markdown",
   "id": "4e034041",
   "metadata": {},
   "source": [
    "## Pozitif girilen bir sayının pozitif tam bölenlerini yazdıran program 10dk"
   ]
  },
  {
   "cell_type": "code",
   "execution_count": 12,
   "id": "29bd2d0e",
   "metadata": {},
   "outputs": [
    {
     "name": "stdout",
     "output_type": "stream",
     "text": [
      "Enter a number: 20\n",
      "1\n",
      "2\n",
      "4\n",
      "5\n",
      "10\n",
      "20\n"
     ]
    }
   ],
   "source": [
    "num=int(input(\"Enter a number: \"))\n",
    "sayac=0\n",
    "if num>0:\n",
    "    for i in range(1,num+1):\n",
    "        if num % i ==0:\n",
    "            print(i)\n",
    "else:\n",
    "    print(\"Enter a positive number\")"
   ]
  },
  {
   "cell_type": "markdown",
   "id": "82b09011",
   "metadata": {},
   "source": [
    "## 1 den girilen sayıya kadar sayılardan dik üçgen oluşturun 10 dk"
   ]
  },
  {
   "cell_type": "code",
   "execution_count": 20,
   "id": "c8929ca2",
   "metadata": {
    "scrolled": true
   },
   "outputs": [
    {
     "name": "stdout",
     "output_type": "stream",
     "text": [
      "Enter a number: 20\n",
      "1\n",
      "12\n",
      "123\n",
      "1234\n",
      "12345\n",
      "123456\n",
      "1234567\n",
      "12345678\n",
      "123456789\n",
      "12345678910\n",
      "1234567891011\n",
      "123456789101112\n",
      "12345678910111213\n",
      "1234567891011121314\n",
      "123456789101112131415\n",
      "12345678910111213141516\n",
      "1234567891011121314151617\n",
      "123456789101112131415161718\n",
      "12345678910111213141516171819\n",
      "1234567891011121314151617181920\n"
     ]
    }
   ],
   "source": [
    "num=int(input(\"Enter a number: \"))\n",
    "\n",
    "for i in range(1,num+1):\n",
    "    for j in range(1,i+1):\n",
    "        print(j,end=\"\")\n",
    "    print(\"\")"
   ]
  },
  {
   "cell_type": "markdown",
   "id": "d2ecf796",
   "metadata": {},
   "source": [
    "## Girilen sayının faktöriyelini bulun 10dk"
   ]
  },
  {
   "cell_type": "code",
   "execution_count": 27,
   "id": "9be6509d",
   "metadata": {},
   "outputs": [
    {
     "name": "stdout",
     "output_type": "stream",
     "text": [
      "Enter a number: 5\n",
      "120\n"
     ]
    }
   ],
   "source": [
    "num= int(input(\"Enter a number: \"))\n",
    "result=1\n",
    "for i in range (1,num+1):\n",
    "    result = result*i\n",
    "print(result)"
   ]
  },
  {
   "cell_type": "markdown",
   "id": "25cabb35",
   "metadata": {},
   "source": [
    "## Klavyeden girilen n tane sayının ortalamasını bulan programı yazınız. 12dk"
   ]
  },
  {
   "cell_type": "code",
   "execution_count": 35,
   "id": "92b029b8",
   "metadata": {},
   "outputs": [
    {
     "name": "stdout",
     "output_type": "stream",
     "text": [
      "Enter the number of digits: 3\n",
      "Enter a number: 7\n",
      "Enter a number: 8\n",
      "Enter a number: 9\n",
      "8.0\n"
     ]
    }
   ],
   "source": [
    "numberofdigits= int(input(\"Enter the number of digits: \"))\n",
    "result=0\n",
    "for i in range(1,numberofdigits+1):\n",
    "    num= int(input(\"Enter a number: \"))\n",
    "    result = result+num\n",
    "\n",
    "ortalama=result/numberofdigits\n",
    "print(ortalama)"
   ]
  },
  {
   "cell_type": "markdown",
   "id": "2344da83",
   "metadata": {},
   "source": [
    "## Girilen sayının asal olup olmadığını belirleyin"
   ]
  },
  {
   "cell_type": "code",
   "execution_count": 37,
   "id": "96954cce",
   "metadata": {},
   "outputs": [
    {
     "name": "stdout",
     "output_type": "stream",
     "text": [
      "Enter a number: 8\n",
      "asal değil\n"
     ]
    }
   ],
   "source": [
    "num= int(input(\"Enter a number: \"))\n",
    "counter=0\n",
    "for i in range(2,num):\n",
    "    if num%i==0:\n",
    "        counter=counter+1;\n",
    "if counter>0:\n",
    "    print(\"asal değil\")\n",
    "elif counter==0:\n",
    "    print(\"asal \")"
   ]
  },
  {
   "cell_type": "markdown",
   "id": "46579cc8",
   "metadata": {},
   "source": [
    " ## Girilen sayıya kadar asal sayıları yazdırın 15dk"
   ]
  },
  {
   "cell_type": "code",
   "execution_count": 43,
   "id": "f5b978b4",
   "metadata": {},
   "outputs": [
    {
     "name": "stdout",
     "output_type": "stream",
     "text": [
      "Enter a number: 10\n",
      "1\n",
      "2\n",
      "3\n",
      "5\n",
      "7\n"
     ]
    }
   ],
   "source": [
    "num= int(input(\"Enter a number: \"))\n",
    "counter=0\n",
    "for j in range(1,num):\n",
    "    counter=0\n",
    "    for i in range (2,j):\n",
    "        if j%i==0:\n",
    "            counter=counter+1;\n",
    "    if counter==0:\n",
    "        print(j)"
   ]
  },
  {
   "cell_type": "markdown",
   "id": "acd35f89",
   "metadata": {},
   "source": [
    "## klavyeden girilen n tane sayının ortalamasını bulan programı yazınız. 12dk\n",
    "### ((while ile çözüm))"
   ]
  },
  {
   "cell_type": "code",
   "execution_count": 51,
   "id": "394a4431",
   "metadata": {},
   "outputs": [
    {
     "name": "stdout",
     "output_type": "stream",
     "text": [
      "Enter the number of digits: 4\n",
      "Enter the number: 5\n",
      "Enter the number: 6\n",
      "Enter the number: 8\n",
      "Enter the number: 7\n",
      "6.5\n"
     ]
    }
   ],
   "source": [
    "numberofdigits= int(input(\"Enter the number of digits: \"))\n",
    "result=0\n",
    "num=0\n",
    "while num<numberofdigits:\n",
    "    number= int(input(\"Enter the number: \"))\n",
    "    result=result+number\n",
    "    num=num+1\n",
    "\n",
    "ortalama= result/numberofdigits\n",
    "print(ortalama)"
   ]
  },
  {
   "cell_type": "code",
   "execution_count": null,
   "id": "01d32836",
   "metadata": {},
   "outputs": [],
   "source": []
  },
  {
   "cell_type": "code",
   "execution_count": null,
   "id": "4ef02441",
   "metadata": {},
   "outputs": [],
   "source": []
  }
 ],
 "metadata": {
  "kernelspec": {
   "display_name": "Python 3 (ipykernel)",
   "language": "python",
   "name": "python3"
  },
  "language_info": {
   "codemirror_mode": {
    "name": "ipython",
    "version": 3
   },
   "file_extension": ".py",
   "mimetype": "text/x-python",
   "name": "python",
   "nbconvert_exporter": "python",
   "pygments_lexer": "ipython3",
   "version": "3.9.12"
  }
 },
 "nbformat": 4,
 "nbformat_minor": 5
}
